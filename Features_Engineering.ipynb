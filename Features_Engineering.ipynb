{
  "nbformat": 4,
  "nbformat_minor": 0,
  "metadata": {
    "colab": {
      "provenance": [],
      "authorship_tag": "ABX9TyOBLYojTmy6iwFvSU42MCUJ",
      "include_colab_link": true
    },
    "kernelspec": {
      "name": "python3",
      "display_name": "Python 3"
    },
    "language_info": {
      "name": "python"
    }
  },
  "cells": [
    {
      "cell_type": "markdown",
      "metadata": {
        "id": "view-in-github",
        "colab_type": "text"
      },
      "source": [
        "<a href=\"https://colab.research.google.com/github/khorzhengyu/project518/blob/main/Features_Engineering.ipynb\" target=\"_parent\"><img src=\"https://colab.research.google.com/assets/colab-badge.svg\" alt=\"Open In Colab\"/></a>"
      ]
    },
    {
      "cell_type": "code",
      "execution_count": null,
      "metadata": {
        "id": "b9e37ec9"
      },
      "outputs": [],
      "source": [
        "import os\n",
        "for dirname, _, filenames in os.walk('/kaggle/input'):\n",
        "    for filename in filenames:\n",
        "        print(os.path.join(dirname, filename))"
      ]
    },
    {
      "cell_type": "code",
      "execution_count": null,
      "metadata": {
        "id": "23ab8b2b"
      },
      "outputs": [],
      "source": [
        "#modules for data analysis\n",
        "import pandas as pd\n",
        "import numpy as np\n",
        "import seaborn as sns\n",
        "import matplotlib.pyplot as plt\n",
        "import datetime as dt\n",
        "import matplotlib.ticker as ticker\n",
        "\n",
        "#modules for model building\n",
        "#algorithms for sampling\n",
        "from imblearn.under_sampling import RandomUnderSampler\n",
        "from imblearn.over_sampling import RandomOverSampler\n",
        "from imblearn.over_sampling import SMOTE\n",
        "\n",
        "#modules for machine learning algorithm\n",
        "from sklearn.linear_model import LogisticRegression\n",
        "from sklearn.tree import DecisionTreeClassifier\n",
        "from sklearn.ensemble import RandomForestClassifier\n",
        "from sklearn.svm import SVC\n",
        "from sklearn.neighbors import KNeighborsClassifier\n",
        "import collections\n",
        "from sklearn import datasets, metrics, preprocessing\n",
        "\n",
        "\n",
        "# modules for evaluation\n",
        "from sklearn.model_selection import GridSearchCV, StratifiedKFold\n",
        "from sklearn.model_selection import train_test_split\n",
        "from sklearn.linear_model import LogisticRegression\n",
        "from sklearn.metrics import classification_report, accuracy_score, f1_score, precision_score, recall_score\n",
        "from sklearn.model_selection import cross_val_score\n",
        "from imblearn.under_sampling import RandomUnderSampler\n",
        "from sklearn.metrics import classification_report,confusion_matrix\n",
        "from xgboost import XGBClassifier\n",
        "from xgboost import Booster\n",
        "from xgboost import DMatrix"
      ]
    },
    {
      "cell_type": "code",
      "execution_count": null,
      "metadata": {
        "id": "SCwyW8kIdln5"
      },
      "outputs": [],
      "source": [
        "from google.colab import drive\n",
        "drive.mount('/content/gdrive')"
      ]
    },
    {
      "cell_type": "code",
      "execution_count": null,
      "metadata": {
        "id": "czArorTRnf3R"
      },
      "outputs": [],
      "source": [
        "# read the csv file\n",
        "df_train= pd.read_csv('gdrive/My Drive/fraudTrain.csv')\n",
        "df_test = pd.read_csv('gdrive/My Drive/fraudTest.csv')"
      ]
    },
    {
      "cell_type": "code",
      "execution_count": null,
      "metadata": {
        "id": "Fpg-TzBGmx3J"
      },
      "outputs": [],
      "source": [
        "#concatenating the two datasets together\n",
        "df = pd.concat([df_train,df_test], ignore_index =True)"
      ]
    },
    {
      "cell_type": "code",
      "execution_count": null,
      "metadata": {
        "id": "q_lCdqDjSjBs"
      },
      "outputs": [],
      "source": [
        "# removing column names that contain '_'\n",
        "df.columns = df.columns.str.replace('_', '')"
      ]
    },
    {
      "cell_type": "code",
      "execution_count": null,
      "metadata": {
        "id": "VqlxhnRjm43A"
      },
      "outputs": [],
      "source": [
        "# taking 90000 data for computation\n",
        "df = df.sample(frac=1, random_state=2)\n",
        "df = df.head(n=90000)\n",
        "df.isfraud.value_counts()"
      ]
    },
    {
      "cell_type": "code",
      "execution_count": null,
      "metadata": {
        "id": "yk93KcSyCatB"
      },
      "outputs": [],
      "source": [
        "# Adding a date variable in the format: YYYY-MM-DD\n",
        "df['transdatetranstime'] = pd.to_datetime(df['transdatetranstime'])\n",
        "df['transdate'] = df['transdatetranstime'].dt.date\n",
        "df['transdate'] = pd.to_datetime(df['transdate'])"
      ]
    },
    {
      "cell_type": "code",
      "execution_count": null,
      "metadata": {
        "id": "W38oolu5AfO2"
      },
      "outputs": [],
      "source": [
        "#sort by transaction date\n",
        "df.sort_values(by = 'transdate', inplace = True)"
      ]
    },
    {
      "cell_type": "code",
      "execution_count": null,
      "metadata": {
        "id": "9dP7Ks_nGOpU"
      },
      "outputs": [],
      "source": [
        "# Adding 'recnum' as index\n",
        "df['recnum'] = range(1, len(df) + 1)"
      ]
    },
    {
      "cell_type": "code",
      "execution_count": null,
      "metadata": {
        "id": "40459a52"
      },
      "outputs": [],
      "source": [
        "#remove the first unused column\n",
        "df.drop('Unnamed: 0', axis = 1, inplace = True)\n",
        "df.head()"
      ]
    },
    {
      "cell_type": "code",
      "execution_count": null,
      "metadata": {
        "id": "2wrCYXLJrFsA"
      },
      "outputs": [],
      "source": [
        "# Creating candidates variables ####\n",
        "\n",
        "from copy import deepcopy\n",
        "\n",
        "# Make a copy of DataFrame to avoid modifying the original data\n",
        "df_var = deepcopy(df)\n",
        "\n",
        "# Convert values to string type for selected columns\n",
        "cols_convert = ['ccnum', 'merchlat','merchlong']\n",
        "for item in cols_convert:\n",
        "    df_var[item] = df_var[item].astype(str)\n",
        "\n",
        "# Print data types of the columns in the modified DataFrame\n",
        "print(df_var.dtypes)"
      ]
    },
    {
      "cell_type": "code",
      "execution_count": null,
      "metadata": {
        "id": "6kOFqzByyJ8f"
      },
      "outputs": [],
      "source": [
        "# Make variable combos\n",
        "df_var['card-merchant'] = df_var['ccnum'] + df_var['merchant']\n",
        "#df_var['card-merchant-location'] = df_var['cc_num'] + df_var['merch_lat'] + df_var['merch_long']"
      ]
    },
    {
      "cell_type": "code",
      "execution_count": null,
      "metadata": {
        "id": "OOaI1mi6X9IS"
      },
      "outputs": [],
      "source": [
        "df_var['ccnum'] = df_var['ccnum'].astype(int)\n",
        "df_var['merchlat'] = df_var['merchlat'].astype(float)\n",
        "df_var['merchlong'] = df_var['merchlong'].astype(float)"
      ]
    },
    {
      "cell_type": "code",
      "execution_count": null,
      "metadata": {
        "id": "sKDpbjzOylqP"
      },
      "outputs": [],
      "source": [
        "## Day-since variable\n",
        "# Creating the function for the variable\n",
        "def ds(dataframe, g1, g2, name):\n",
        "#     'Helps with calculating the day since variables'\n",
        "    day_since = dataframe.groupby(g1)[g1].first()\n",
        "    day_since = day_since.rename_axis(['None' for i in range(len(g1))]).groupby(g2).diff()\n",
        "    day_since.columns = [name]\n",
        "    day_since = day_since.rename_axis(g1)\n",
        "    day_since[name] = day_since[name].dt.days.fillna(0)\n",
        "    day_since = day_since.reset_index()\n",
        "    return day_since"
      ]
    },
    {
      "cell_type": "code",
      "execution_count": null,
      "metadata": {
        "id": "y8EFJMeg3uHn"
      },
      "outputs": [],
      "source": [
        "# Creating Day-Since Variable\n",
        "start_daySince = pd.datetime.now()\n",
        "day_card = ds(df_var, ['ccnum', 'transdate'], 'ccnum', 'card_daysSince')\n",
        "print(\"done!\", pd.datetime.now()-start_daySince)\n",
        "day_card"
      ]
    },
    {
      "cell_type": "code",
      "execution_count": null,
      "metadata": {
        "id": "2p0XiIbGyUQ3"
      },
      "outputs": [],
      "source": [
        "# day_card"
      ]
    },
    {
      "cell_type": "code",
      "execution_count": null,
      "metadata": {
        "id": "SzN8TXeB1mah"
      },
      "outputs": [],
      "source": [
        "from datetime import datetime\n",
        "time_ds_all=datetime.now()\n",
        "# Calculate the Days Since variables for the required columns\n",
        "ds_cols = ['ccnum','merchant','card-merchant']\n",
        "\n",
        "ds_dict={}\n",
        "for col in ds_cols:\n",
        "    curr_time=datetime.now()\n",
        "    curr_name = 'daysSince_' + col\n",
        "\n",
        "    # Calculate the days-since variable (ds) and assign it to a global variable (curr_name)\n",
        "    vars()[curr_name] = ds(df_var, [col, 'transdate'], col, col+'_daysSince')\n",
        "    ds_dict[curr_name] = vars()[curr_name] # Save results to a dictionary\n",
        "\n",
        "    print(\"Done with:\", col, \"; Time:\", datetime.now()-curr_time)\n",
        "\n",
        "print(\"DONE!\", datetime.now()-time_ds_all)"
      ]
    },
    {
      "cell_type": "code",
      "execution_count": null,
      "metadata": {
        "id": "xJLDiotH3v0p"
      },
      "outputs": [],
      "source": [
        "ds_dict.keys()\n",
        "print(type(ds_dict.keys()))"
      ]
    },
    {
      "cell_type": "code",
      "execution_count": null,
      "metadata": {
        "id": "tvYMJtqE3w91"
      },
      "outputs": [],
      "source": [
        "# Create a copy of the main DataFrame to avoid modifying the original data\n",
        "df_ds = df_var.copy()\n",
        "\n",
        "# Merge the days-since variables with the main dataset\n",
        "for item in ds_dict.keys():\n",
        "    col_variable = item.split('_')[1]\n",
        "    df_ds = pd.merge(df_ds, vars()[item], how='left', left_on=[col_variable,'transdate'], right_on=[col_variable,'transdate'])"
      ]
    },
    {
      "cell_type": "code",
      "execution_count": null,
      "metadata": {
        "id": "cKflIxL-qPMV"
      },
      "outputs": [],
      "source": [
        "df_ds.to_csv('df_daysSince.csv')"
      ]
    },
    {
      "cell_type": "code",
      "execution_count": null,
      "metadata": {
        "id": "lS7nN49x1ht4"
      },
      "outputs": [],
      "source": [
        "from datetime import datetime\n",
        "# Create Columns for the Necessary Time Periods ##\n",
        "#This makes new columns for the various time periods.\n",
        "# Make a list of variable combinations to iterate through and create time-related variables\n",
        "var_combos = ['ccnum','merchant','card-merchant']\n",
        "\n",
        "# Create column names\n",
        "time_list = [0,1,3,7,14,30]\n",
        "time_joined =[]\n",
        "for time in time_list:\n",
        "    time_joined.append('join_ts_'+str(time))\n",
        "\n",
        "start_copy = datetime.now()\n",
        "df_var1 = deepcopy(df_var)\n",
        "df_var2 = deepcopy(df_var)\n",
        "print('copy time', datetime.now()-start_copy)\n",
        "\n",
        "# Creating columns for time\n",
        "start_loop=datetime.now()\n",
        "for time in time_list:\n",
        "    temp_endTime = 'join_ts_' + str(time)\n",
        "    df_var2[temp_endTime] = df_var2['transdate'] + dt.timedelta(days = time)\n",
        "print('first loop', datetime.now()-start_loop)"
      ]
    },
    {
      "cell_type": "code",
      "execution_count": null,
      "metadata": {
        "id": "-whh_mOOeNSf"
      },
      "outputs": [],
      "source": [
        "# Create the Frequency Candidate Variables ##\n",
        "start_loop2=datetime.now()\n",
        "df_final = deepcopy(df_var.set_index('recnum'))\n",
        "\n",
        "for item in var_combos:\n",
        "    df_var3 = df_var1[['recnum','transdate',item]]\n",
        "    temp_list = time_joined + [item]\n",
        "    df_var4 = df_var2[temp_list + ['recnum']].copy()\n",
        "    df_var4.rename(columns={'recnum':'recnum2'},inplace=True) # this causes a warning to arise\n",
        "\n",
        "    df_temp = pd.merge(df_var3, df_var4, left_on=[item], right_on=[item])\n",
        "\n",
        "    for time in time_list:\n",
        "        temp_endTime = 'join_ts_' + str(time)\n",
        "        df2_temp = df_temp[(df_temp['transdate'] <= df_temp[temp_endTime]) & (df_temp['recnum2'] <= df_temp['recnum'])]\n",
        "        temp_groupby = df2_temp[['recnum','transdate']].groupby('recnum')\n",
        "        temp_name = item + '_' + 'freq' + str(time) + '_'\n",
        "        df_final = pd.merge(df_final, getattr(temp_groupby,'count')().add_prefix(temp_name), left_index=True, right_index=True, how='left')\n",
        "\n",
        "print('second loop', datetime.now()-start_loop2)\n",
        "print(len(df_final.columns))\n",
        "df_final.head()"
      ]
    },
    {
      "cell_type": "code",
      "execution_count": null,
      "metadata": {
        "id": "bkodmrDmX6sJ"
      },
      "outputs": [],
      "source": [
        "pd.set_option('display.max_columns', None)\n",
        "pd.set_option('display.max_rows',None)\n",
        "df_final.loc[df_final['ccnum'] == 6011504998544485]"
      ]
    },
    {
      "cell_type": "code",
      "execution_count": null,
      "metadata": {
        "id": "5xEYlFoHva5Q"
      },
      "outputs": [],
      "source": [
        "start_loop3= datetime.now()\n",
        "groupbyvar_denom = deepcopy(var_combos)\n",
        "days_numer = ['0','1']\n",
        "days_denom = ['7','14','30']\n",
        "\n",
        "for b in groupbyvar_denom:\n",
        "    for c in days_numer:\n",
        "        for d in days_denom:\n",
        "            temp = d\n",
        "            df_final[b + '_' + c + '_dayfreq' + '_div_' + d + '_dayfreq' + '_velchange'] = \\\n",
        "                df_final[b + '_freq' + c + '_transdate'] / \\\n",
        "                df_final[b + '_freq' + d + '_transdate'] / float(temp)\n",
        "print('third loop', datetime.now() - start_loop3)"
      ]
    },
    {
      "cell_type": "code",
      "execution_count": null,
      "metadata": {
        "id": "m1eejbXlxU0f"
      },
      "outputs": [],
      "source": [
        "# Reset the index so that the Recnum returns to being a normal column\n",
        "df_final.reset_index(inplace=True)"
      ]
    },
    {
      "cell_type": "code",
      "execution_count": null,
      "metadata": {
        "id": "mfBnNfXAxVMo"
      },
      "outputs": [],
      "source": [
        "# Merge df_final (frequency and velocity change) and df_ds (days-since)\n",
        "df_all_vars = pd.merge(df_final, df_ds, on=list(df_var.columns))"
      ]
    },
    {
      "cell_type": "code",
      "execution_count": null,
      "metadata": {
        "id": "7TILgt2sxjyO"
      },
      "outputs": [],
      "source": [
        "from typing import List\n",
        "# Optimize Function\n",
        "def optimize_floats(df: pd.DataFrame) -> pd.DataFrame:\n",
        "    floats = df.select_dtypes(include=['float64']).columns.tolist()\n",
        "    df[floats] = df[floats].apply(pd.to_numeric, downcast='float')\n",
        "    return df\n",
        "\n",
        "\n",
        "def optimize_ints(df: pd.DataFrame) -> pd.DataFrame:\n",
        "    ints = df.select_dtypes(include=['int64']).columns.tolist()\n",
        "    df[ints] = df[ints].apply(pd.to_numeric, downcast='integer')\n",
        "    return df\n",
        "\n",
        "\n",
        "def optimize_objects(df: pd.DataFrame, datetime_features: List[str]) -> pd.DataFrame:\n",
        "    for col in df.select_dtypes(include=['object']):\n",
        "        if col not in datetime_features:\n",
        "            num_unique_values = len(df[col].unique())\n",
        "            num_total_values = len(df[col])\n",
        "            if float(num_unique_values) / num_total_values < 0.5:\n",
        "                df[col] = df[col].astype('category')\n",
        "        else:\n",
        "            df[col] = pd.to_datetime(df[col])\n",
        "    return df\n",
        "\n",
        "\n",
        "\n",
        "def optimize(df: pd.DataFrame, datetime_features: List[str] = []):\n",
        "    return optimize_floats(optimize_ints(optimize_objects(df, datetime_features)))"
      ]
    },
    {
      "cell_type": "code",
      "execution_count": null,
      "metadata": {
        "id": "5S3zNehtxj24"
      },
      "outputs": [],
      "source": [
        "# Make variable combos\n",
        "main_dataset_filled = deepcopy(df)\n",
        "main_dataset_filled['ccnum_|_merchant'] = main_dataset_filled['ccnum'].astype('str') + main_dataset_filled['merchant'].astype('str')\n",
        " # main_dataset_filled['ccnum_|_merchantlocation'] = main_dataset_filled['cc_num'].astype('str') + main_dataset_filled['merch_lat'].astype('str') + main_dataset_filled['merch_long'].astype('str')"
      ]
    },
    {
      "cell_type": "code",
      "execution_count": null,
      "metadata": {
        "id": "hPJJxxulxj9S"
      },
      "outputs": [],
      "source": [
        "var_combos = ['ccnum','merchant','ccnum_|_merchant']"
      ]
    },
    {
      "cell_type": "code",
      "execution_count": null,
      "metadata": {
        "id": "wYEb_yNF1mnY"
      },
      "outputs": [],
      "source": [
        "time_joined =['join_ts1']\n",
        "for num in time_list:\n",
        "    time_joined.append('join_ts2_'+str(num))"
      ]
    },
    {
      "cell_type": "code",
      "execution_count": null,
      "metadata": {
        "id": "CmkwyY4-1s6C"
      },
      "outputs": [],
      "source": [
        "# Making time variables\n",
        "start=datetime.now()\n",
        "\n",
        "time_list = [0,1,3,7,14,30]\n",
        "main_dataset_filled['join_ts1']=main_dataset_filled['transdate']\n",
        "# dt_i\n",
        "for dt_i in time_list:\n",
        "    time = 'join_ts2_'+str(dt_i)\n",
        "    main_dataset_filled[time]=main_dataset_filled['transdate'] + dt.timedelta(dt_i)\n",
        "print('Completed ',datetime.now()-start)"
      ]
    },
    {
      "cell_type": "code",
      "execution_count": null,
      "metadata": {
        "id": "W5uezL932E2B"
      },
      "outputs": [],
      "source": [
        "df_var1 = main_dataset_filled.copy()\n",
        "df_var2 = main_dataset_filled.copy()"
      ]
    },
    {
      "cell_type": "code",
      "execution_count": null,
      "metadata": {
        "id": "VceGPTLV2PPW"
      },
      "outputs": [],
      "source": [
        "# Total Amount Variables\n",
        "start_loop2= datetime.now()\n",
        "df_final = deepcopy(main_dataset_filled.set_index('recnum'))\n",
        "\n",
        "for item in var_combos:\n",
        "    df_var3 = df_var1[['recnum','transdate','amt',item]]\n",
        "    temp_list = time_joined + [item]\n",
        "    df_var4 = df_var2[temp_list + ['recnum','amt']].copy()\n",
        "    df_var4.rename(columns={'recnum':'recnum2','amt':'amt2'},inplace=True) # this causes a warning to arise\n",
        "#     df_var4['record2'] = df_var2['record'] # this causes a warning to arise\n",
        "\n",
        "    df_temp = pd.merge(df_var3, df_var4, left_on=[item], right_on=[item])\n",
        "\n",
        "    for time in time_list:\n",
        "        temp_endTime = 'join_ts2_' + str(time)\n",
        "#         df2_temp = df_temp[(df_temp['date'] >= df_temp['join_ts1']) & (df_temp['date'] <= df_temp[temp_endTime])] # Original from TA\n",
        "        df2_temp = df_temp[(df_temp['transdate'] <= df_temp[temp_endTime]) & (df_temp['recnum2'] <= df_temp['recnum'])]\n",
        "\n",
        "        temp_groupby = df2_temp[['recnum','amt2']].groupby('recnum')\n",
        "\n",
        "        temp_name = item + '_' + 'totalamount' + str(time) + '_'\n",
        "        df_final = pd.merge(df_final, getattr(temp_groupby,'sum')().add_prefix(temp_name), left_index=True, right_index=True, how='left')\n",
        "#         break\n",
        "#     break\n",
        "print('second loop', datetime.now()-start_loop2)\n",
        "print(len(df_final.columns))\n",
        "df_final.head()"
      ]
    },
    {
      "cell_type": "code",
      "execution_count": null,
      "metadata": {
        "id": "-tV3xNyV3pk8"
      },
      "outputs": [],
      "source": [
        "# Median amount\n",
        "start_loop2= datetime.now()\n",
        "# df_final = deepcopy(main_dataset_filled.set_index('Recnum'))\n",
        "\n",
        "for item in var_combos:\n",
        "    df_var3 = df_var1[['recnum','transdate','amt',item]]\n",
        "    temp_list = time_joined + [item]\n",
        "    df_var4 = df_var2[temp_list + ['recnum','amt']].copy()\n",
        "    df_var4.rename(columns={'recnum':'recnum2','amt':'amt2'},inplace=True)\n",
        "#     df_var4['record2'] = df_var2['record'] # this causes a warning to arise\n",
        "\n",
        "    df_temp = pd.merge(df_var3, df_var4, left_on=[item], right_on=[item])\n",
        "\n",
        "    for time in time_list:\n",
        "        temp_endTime = 'join_ts2_' + str(time)\n",
        "#         df2_temp = df_temp[(df_temp['date'] >= df_temp['join_ts1']) & (df_temp['date'] <= df_temp[temp_endTime])] # Original from TA\n",
        "        df2_temp = df_temp[(df_temp['transdate'] <= df_temp[temp_endTime]) & (df_temp['recnum2'] <= df_temp['recnum'])]\n",
        "\n",
        "        temp_groupby = df2_temp[['recnum','amt2']].groupby('recnum')\n",
        "\n",
        "        temp_name = item + '_' + 'median' + str(time) + '_'\n",
        "        df_final = pd.merge(df_final, getattr(temp_groupby,'median')().add_prefix(temp_name), left_index=True, right_index=True, how='left')\n",
        "#         break\n",
        "#     break\n",
        "print('second loop', datetime.now()-start_loop2)\n",
        "print(len(df_final.columns))\n",
        "df_final.head()"
      ]
    },
    {
      "cell_type": "code",
      "execution_count": null,
      "metadata": {
        "id": "VR1BJtyz6J68"
      },
      "outputs": [],
      "source": [
        "# Mean Variables\n",
        "\n",
        "start_loop2= datetime.now()\n",
        "# df_final = deepcopy(main_dataset_filled.set_index('Recnum'))\n",
        "\n",
        "for item in var_combos:\n",
        "    df_var3 = df_var1[['recnum','transdate','amt',item]]\n",
        "    temp_list = time_joined + [item]\n",
        "    df_var4 = df_var2[temp_list + ['recnum','amt']].copy()\n",
        "    df_var4.rename(columns={'recnum':'recnum2','amt':'amt2'},inplace=True)\n",
        "#     df_var4['record2'] = df_var2['record'] # this causes a warning to arise\n",
        "\n",
        "    df_temp = pd.merge(df_var3, df_var4, left_on=[item], right_on=[item])\n",
        "\n",
        "    for time in time_list:\n",
        "        temp_endTime = 'join_ts2_' + str(time)\n",
        "#         df2_temp = df_temp[(df_temp['date'] >= df_temp['join_ts1']) & (df_temp['date'] <= df_temp[temp_endTime])] # Original from TA\n",
        "        df2_temp = df_temp[(df_temp['transdate'] <= df_temp[temp_endTime]) & (df_temp['recnum2'] <= df_temp['recnum'])]\n",
        "\n",
        "        temp_groupby = df2_temp[['recnum','amt2']].groupby('recnum')\n",
        "\n",
        "        temp_name = item + '_' + 'mean' + str(time) + '_'\n",
        "        df_final = pd.merge(df_final, getattr(temp_groupby,'mean')().add_prefix(temp_name), left_index=True, right_index=True, how='left')\n",
        "#         break\n",
        "#     break\n",
        "print('second loop', datetime.now()-start_loop2)\n",
        "print(len(df_final.columns))\n",
        "df_final.head()"
      ]
    },
    {
      "cell_type": "code",
      "execution_count": null,
      "metadata": {
        "id": "vtUl38Lh7D-w"
      },
      "outputs": [],
      "source": [
        " # Max Variables\n",
        "start_loop2= datetime.now()\n",
        "# df_final = deepcopy(main_dataset_filled.set_index('Recnum'))\n",
        "\n",
        "for item in var_combos:\n",
        "    df_var3 = df_var1[['recnum','transdate','amt',item]]\n",
        "    temp_list = time_joined + [item]\n",
        "    df_var4 = df_var2[temp_list + ['recnum','amt']].copy()\n",
        "    df_var4.rename(columns={'recnum':'recnum2','amt':'amt2'},inplace=True)\n",
        "#     df_var4['record2'] = df_var2['record'] # this causes a warning to arise\n",
        "\n",
        "    df_temp = pd.merge(df_var3, df_var4, left_on=[item], right_on=[item])\n",
        "\n",
        "    for time in time_list:\n",
        "        temp_endTime = 'join_ts2_' + str(time)\n",
        "#         df2_temp = df_temp[(df_temp['date'] >= df_temp['join_ts1']) & (df_temp['date'] <= df_temp[temp_endTime])] # Original from TA\n",
        "        df2_temp = df_temp[(df_temp['transdate'] <= df_temp[temp_endTime]) & (df_temp['recnum2'] <= df_temp['recnum'])]\n",
        "\n",
        "        temp_groupby = df2_temp[['recnum','amt2']].groupby('recnum')\n",
        "\n",
        "        temp_name = item + '_' + 'max' + str(time) + '_'\n",
        "        df_final = pd.merge(df_final, getattr(temp_groupby,'max')().add_prefix(temp_name), left_index=True, right_index=True, how='left')\n",
        "#         break\n",
        "#     break\n",
        "print('second loop', datetime.now()-start_loop2)\n",
        "print(len(df_final.columns))\n",
        "df_final.head()"
      ]
    },
    {
      "cell_type": "code",
      "execution_count": null,
      "metadata": {
        "id": "_dg6i0cX7EEG"
      },
      "outputs": [],
      "source": [
        "df_final = optimize(df_final,['transdate'])"
      ]
    },
    {
      "cell_type": "code",
      "execution_count": null,
      "metadata": {
        "id": "KNXit5KpdREV"
      },
      "outputs": [],
      "source": [
        "all_columns = df_final.columns.tolist()\n",
        "all_columns"
      ]
    },
    {
      "cell_type": "code",
      "execution_count": null,
      "metadata": {
        "id": "iEVzB7Ww7oXo"
      },
      "outputs": [],
      "source": [
        "start_column = df_final.columns.get_loc('ccnum_totalamount0_amt2')\n",
        "for col_names in df_final.columns[start_column:]:\n",
        "#  the number of days in each column is the column index mod length of time array\n",
        "    number_index = time_list[(df_final.columns.get_loc(col_names)%len(time_list))-1]\n",
        "#     we split the name of the array to keep the first part and use it to create the new column names\n",
        "    new_col_name = col_names.split(str(number_index))[0]+'_'+str(number_index)+'_actual'\n",
        "#     print(new_col_name)\n",
        "    df_final[new_col_name] = df_final[\"amt\"]/df_final[col_names]"
      ]
    },
    {
      "cell_type": "code",
      "execution_count": null,
      "metadata": {
        "id": "gPumQ4H_71v0"
      },
      "outputs": [],
      "source": [
        "# Amount Velocity Change Variables\n",
        "# iterates through  the variables created with the var_combos columns and finds the relative\n",
        "# velocity variables. Divides the number of days of days_numer array with the days_denom one\n",
        "start_loop3= datetime.now()\n",
        "groupbyvar_denom = deepcopy(var_combos)\n",
        "days_numer = ['0','1']\n",
        "days_denom = ['7','14','30']\n",
        "# ccnum_totalamount0_amt2_/_ccnum_totalamount3_amt2\n",
        "for b in groupbyvar_denom:\n",
        "    for c in days_numer:\n",
        "        for d in days_denom:\n",
        "            temp = d\n",
        "            df_final[b + '_' + c + '_dayamount' + '_div_' + d + '_dayamount' + '_velchange'] = \\\n",
        "                df_final[b+'_totalamount'+c+'_amt2'] / \\\n",
        "                df_final[b+'_totalamount'+d+'_amt2'] / float(temp)\n",
        "print('third loop', datetime.now() - start_loop3)"
      ]
    },
    {
      "cell_type": "code",
      "execution_count": null,
      "metadata": {
        "id": "7WVQHre2wci0"
      },
      "outputs": [],
      "source": [
        "df_all_vars = optimize(df_all_vars)"
      ]
    },
    {
      "cell_type": "code",
      "execution_count": null,
      "metadata": {
        "id": "uGdHiMYA3Y9R"
      },
      "outputs": [],
      "source": [
        "# df_all_vars contains frequency variables, velocity change variables, and days since variables\n",
        "# merge1_df contains amount variables, velocity change amount variables, and benford's law variables\n",
        "df_all_vars_final = pd.merge(df_all_vars, df_final, how='left',left_on=df.columns.to_list(),right_on=df.columns.to_list())"
      ]
    },
    {
      "cell_type": "code",
      "execution_count": null,
      "metadata": {
        "id": "9_QMUp5jqZdg"
      },
      "outputs": [],
      "source": [
        "df_all_vars_final = df_all_vars_final.drop(columns=['card-merchant', 'join_ts1', 'join_ts2_0',\n",
        "       'join_ts2_1', 'join_ts2_3', 'join_ts2_7', 'join_ts2_14',\n",
        "       'join_ts2_30'])\n",
        "df_all_vars_final.head()"
      ]
    },
    {
      "cell_type": "code",
      "execution_count": null,
      "metadata": {
        "id": "J3q2EfAgKttJ"
      },
      "outputs": [],
      "source": [
        "#### Examples ########\n",
        "#\n",
        "#\n",
        "pd.set_option('display.max_rows', None)\n",
        "pd.set_option('display.max_columns', None)\n",
        "# Selecting specific columns\n",
        "selected_columns = ['ccnum', 'transdate', 'amt', 'ccnum_freq0_transdate', 'ccnum_freq1_transdate' ,'ccnum_freq3_transdate', 'ccnum_freq7_transdate']\n",
        "filtered_df = df_all_vars_final[selected_columns]\n",
        "\n",
        "# Filtering rows based on ccnum\n",
        "ccnum_filter = 6011504998544485\n",
        "filtered_df = filtered_df[filtered_df['ccnum'] == ccnum_filter]\n",
        "\n",
        "# Define the range of indices you want to show\n",
        "start_index = 5\n",
        "end_index = 200\n",
        "\n",
        "# Filter rows within the specified index range\n",
        "filtered_df = filtered_df.iloc[start_index:end_index+1]\n",
        "\n",
        "filtered_df\n"
      ]
    },
    {
      "cell_type": "code",
      "execution_count": null,
      "metadata": {
        "id": "HLztoDMpGxFf"
      },
      "outputs": [],
      "source": [
        "pd.set_option('display.max_rows', None)\n",
        "pd.set_option('display.max_columns', None)\n",
        "# Selecting specific columns\n",
        "selected_columns = ['recnum', 'ccnum', 'merchant', 'transdate', 'amt', 'ccnum_totalamount0_amt2', 'ccnum_|_merchant_totalamount7_amt2' ,'ccnum_|_merchant_totalamount_7_actual']\n",
        "filtered_df = df_all_vars_final[selected_columns]\n",
        "\n",
        "# Filtering rows based on ccnum\n",
        "ccnum_filter = 370877495212014\n",
        "filtered_df = filtered_df[filtered_df['ccnum'] == ccnum_filter]\n",
        "\n",
        "filtered_df\n"
      ]
    },
    {
      "cell_type": "code",
      "execution_count": null,
      "metadata": {
        "id": "uq_GzZA3ioqs"
      },
      "outputs": [],
      "source": [
        "pd.set_option('display.max_rows', None)\n",
        "pd.set_option('display.max_columns', None)\n",
        "# Selecting specific columns\n",
        "selected_columns = ['recnum', 'ccnum', 'transdate', 'amt', 'ccnum_totalamount0_amt2', 'ccnum_totalamount7_amt2' ,'ccnum_0_dayamount_div_7_dayamount_velchange']\n",
        "filtered_df = df_all_vars_final[selected_columns]\n",
        "\n",
        "# Filtering rows based on ccnum\n",
        "ccnum_filter = 370877495212014\n",
        "filtered_df = filtered_df[filtered_df['ccnum'] == ccnum_filter]\n",
        "\n",
        "filtered_df\n"
      ]
    },
    {
      "cell_type": "code",
      "execution_count": null,
      "metadata": {
        "id": "HInkhQHP-EMn"
      },
      "outputs": [],
      "source": [
        "pd.set_option('display.max_rows', None)\n",
        "pd.set_option('display.max_columns', None)\n",
        "# Selecting specific columns\n",
        "selected_columns = ['recnum', 'ccnum', 'transdate', 'amt', 'ccnum_freq0_transdate', 'ccnum_freq7_transdate' ,'ccnum_0_dayfreq_div_7_dayfreq_velchange']\n",
        "filtered_df = df_all_vars_final[selected_columns]\n",
        "\n",
        "# Filtering rows based on ccnum\n",
        "ccnum_filter = 370877495212014\n",
        "filtered_df = filtered_df[filtered_df['ccnum'] == ccnum_filter]\n",
        "\n",
        "filtered_df\n"
      ]
    },
    {
      "cell_type": "code",
      "execution_count": null,
      "metadata": {
        "id": "-m5EbWRquuKY"
      },
      "outputs": [],
      "source": [
        "pd.reset_option('max_columns')\n",
        "pd.reset_option('max_rows')"
      ]
    },
    {
      "cell_type": "code",
      "execution_count": null,
      "metadata": {
        "id": "D5JBJiuZ70lw"
      },
      "outputs": [],
      "source": [
        "df = df_all_vars_final.copy()\n",
        "df.head()"
      ]
    }
  ]
}