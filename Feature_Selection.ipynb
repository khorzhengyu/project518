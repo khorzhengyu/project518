{
  "nbformat": 4,
  "nbformat_minor": 0,
  "metadata": {
    "colab": {
      "provenance": [],
      "authorship_tag": "ABX9TyNpWsEjiA9VoG4R8Ivt4mBk",
      "include_colab_link": true
    },
    "kernelspec": {
      "name": "python3",
      "display_name": "Python 3"
    },
    "language_info": {
      "name": "python"
    }
  },
  "cells": [
    {
      "cell_type": "markdown",
      "metadata": {
        "id": "view-in-github",
        "colab_type": "text"
      },
      "source": [
        "<a href=\"https://colab.research.google.com/github/khorzhengyu/project518/blob/main/Feature_Selection.ipynb\" target=\"_parent\"><img src=\"https://colab.research.google.com/assets/colab-badge.svg\" alt=\"Open In Colab\"/></a>"
      ]
    },
    {
      "cell_type": "code",
      "execution_count": null,
      "metadata": {
        "id": "26cc2e2f"
      },
      "outputs": [],
      "source": [
        "## One Hot Encoding ##\n",
        "category_onehot = pd.get_dummies(df.category, prefix = 'category',drop_first = True)\n",
        "gender_onehot = pd.get_dummies(df.gender, prefix = 'gender', drop_first = True)\n",
        "day_of_week_onehot = pd.get_dummies(df.trans_day_of_week, prefix = 'day', drop_first = True)\n",
        "time_of_day_onehot = pd.get_dummies(df.time_of_day, prefix = 'time_of_day', drop_first = True)\n",
        "#trans_year_month_onehot = pd.get_dummies(df.trans_year_month, prefix = 'year', drop_first = True)\n",
        "age_group_onehot = pd.get_dummies(df.age_group , prefix = 'age', drop_first = True)"
      ]
    },
    {
      "cell_type": "code",
      "execution_count": null,
      "metadata": {
        "id": "gmF-q-eKpewj"
      },
      "outputs": [],
      "source": [
        "df2 = pd.concat([df, category_onehot,gender_onehot,day_of_week_onehot,time_of_day_onehot,age_group_onehot],axis = 1)"
      ]
    },
    {
      "cell_type": "code",
      "execution_count": null,
      "metadata": {
        "id": "b-kBmXuqpozs"
      },
      "outputs": [],
      "source": [
        "df2.drop(['ccnum', 'recnum','transnum','amount_bin','merchant','street','city','state','job','category','gender','trans_day_of_week','age','lat','long','citypop','unixtime','merchlat','merchlong','trans_hour','age_group','group','time_of_day'],axis = 1, inplace = True)\n"
      ]
    },
    {
      "cell_type": "code",
      "execution_count": null,
      "metadata": {
        "id": "zaVEheSYmCNB"
      },
      "outputs": [],
      "source": [
        "non_fraud_count, fraud_count = df2.isfraud.value_counts()"
      ]
    },
    {
      "cell_type": "code",
      "execution_count": null,
      "metadata": {
        "id": "wke90jYroBoc"
      },
      "outputs": [],
      "source": [
        "df_num = df2.select_dtypes(include = 'number')\n",
        "#df_num.drop(['index'], axis = 1, inplace = True)\n",
        "df_num.columns"
      ]
    },
    {
      "cell_type": "code",
      "execution_count": null,
      "metadata": {
        "id": "uqScBl94TI65"
      },
      "outputs": [],
      "source": [
        "# Data Standardiztion\n",
        "from sklearn.preprocessing import RobustScaler\n",
        "\n",
        "rob_scaler = RobustScaler()\n",
        "# Scales all variables\n",
        "df_scaled = rob_scaler.fit_transform(df_num)\n",
        "df_num = pd.DataFrame(df_scaled, columns=df_num.columns)"
      ]
    },
    {
      "cell_type": "code",
      "execution_count": null,
      "metadata": {
        "id": "Xk0JNlWpmXAi"
      },
      "outputs": [],
      "source": [
        "from sklearn.model_selection import StratifiedKFold\n",
        "\n",
        "print('No Frauds', round(df_num['isfraud'].value_counts()[0] / len(df_num) * 100, 2), '% of the dataset')\n",
        "print('Frauds', round(df_num['isfraud'].value_counts()[1] / len(df_num) * 100, 2), '% of the dataset')\n",
        "\n",
        "X = df_num.drop('isfraud', axis=1)\n",
        "y = df_num['isfraud']\n",
        "\n",
        "sss = StratifiedKFold(n_splits=5, random_state= None , shuffle= True)\n",
        "\n",
        "for train_index, test_index in sss.split(X, y):\n",
        "    print(\"Train:\", train_index, \"Test:\", test_index)\n",
        "    original_Xtrain, original_Xtest = X.iloc[train_index], X.iloc[test_index]\n",
        "    original_ytrain, original_ytest = y.iloc[train_index], y.iloc[test_index]\n",
        "\n",
        "\n",
        "# Check the Distribution of the labels\n",
        "\n",
        "# Turn into arrays\n",
        "original_Xtrain = original_Xtrain.values\n",
        "original_Xtest = original_Xtest.values\n",
        "original_ytrain = original_ytrain.values\n",
        "original_ytest = original_ytest.values\n",
        "\n",
        "# See if both the train and test label distribution are similarly distributed\n",
        "train_unique_label, train_counts_label = np.unique(original_ytrain, return_counts=True)\n",
        "test_unique_label, test_counts_label = np.unique(original_ytest, return_counts=True)\n",
        "\n"
      ]
    },
    {
      "cell_type": "code",
      "execution_count": null,
      "metadata": {
        "id": "0Q-17Vukmlzu"
      },
      "outputs": [],
      "source": [
        "# Since our classes are highly skewed, we should make them equivalent in order to have a balanced distribution of the classes.\n",
        "\n",
        "# Let's shuffle the data before creating the subsamples\n",
        "df_num = df_num.sample(frac=1)\n",
        "\n",
        "# Amount of fraud cases (453 rows).\n",
        "fraud_df = df_num.loc[df_num['isfraud'] == 1]\n",
        "non_fraud_df = df_num.loc[df_num['isfraud'] == 0][:453]  # Update the number to match your fraud cases count\n",
        "\n",
        "balanced_df = pd.concat([fraud_df, non_fraud_df])\n",
        "\n",
        "# Shuffle dataframe rows\n",
        "new_df = balanced_df.sample(frac=1, random_state=42)\n",
        "\n",
        "new_df.head()\n"
      ]
    },
    {
      "cell_type": "code",
      "execution_count": null,
      "metadata": {
        "id": "ZDsaW7rMraTU"
      },
      "outputs": [],
      "source": [
        "import seaborn as sns\n",
        "import matplotlib.pyplot as plt\n",
        "\n",
        "print('Distribution of the Classes in the subsample dataset')\n",
        "print(new_df['isfraud'].value_counts() / len(new_df))\n",
        "\n",
        "colors = [\"#0101DF\", \"#DF0101\"]  # Blue for non-fraud, Red for fraud\n",
        "\n",
        "plt.figure(figsize=(7, 4))  # Adjust the figure size if needed\n",
        "sns.countplot(x='isfraud', data=new_df, palette=colors)\n",
        "plt.title('Equally Distributed Classes', fontsize=14)\n",
        "plt.show()\n"
      ]
    },
    {
      "cell_type": "code",
      "execution_count": null,
      "metadata": {
        "id": "Q5X94rEKeI8S"
      },
      "outputs": [],
      "source": [
        "## Feature Selection using LASSO ##\n",
        "X_cols = new_df.columns.drop('isfraud')\n",
        "Y_cols = 'isfraud'"
      ]
    },
    {
      "cell_type": "code",
      "execution_count": null,
      "metadata": {
        "id": "egCYK0jjeNch"
      },
      "outputs": [],
      "source": [
        "# Implementing LASSO regression onto dataset\n",
        "from sklearn.linear_model import LassoCV\n",
        "X = pd.DataFrame(new_df[X_cols], columns=X_cols) # feature matrix\n",
        "y = new_df[Y_cols] # target variable\n",
        "\n",
        "reg = LassoCV()\n",
        "reg.fit(X,y)\n",
        "print(\"Best alpha using built_in LassoCV = %f\" %reg.alpha_)\n",
        "print(\"Best score using built-in LassoCV = %f\" %reg.score(X,y))"
      ]
    },
    {
      "cell_type": "code",
      "execution_count": null,
      "metadata": {
        "id": "iS8LujlVeeIv"
      },
      "outputs": [],
      "source": [
        "coef = pd.Series(reg.coef_, index=X.columns)\n",
        "print(\"Lasso picked \" + str(sum(coef != 0)) + \" variables and eliminated the other \" + str(sum(coef == 0)) + \" variables\")\n",
        "imp_coef = coef[coef != 0].sort_values()\n",
        "\n",
        "import matplotlib.pyplot as plt\n",
        "plt.figure(figsize=(8.0, 10.0))\n",
        "imp_coef.plot(kind=\"barh\")\n",
        "plt.title(\"Important Variables Selected by Lasso model\")\n",
        "plt.xlabel(\"Coefficient Value\")\n",
        "plt.ylabel(\"Variable\")\n",
        "plt.show()\n",
        "\n",
        "picked_variables = X.columns[coef != 0]\n",
        "print(\"Variables picked by Lasso:\", picked_variables)\n"
      ]
    },
    {
      "cell_type": "code",
      "execution_count": null,
      "metadata": {
        "id": "JlNvBZVree_J"
      },
      "outputs": [],
      "source": [
        "selected_columns = ['ccnum_freq3_transdate', 'ccnum_freq30_transdate',\n",
        "       'ccnum_0_dayfreq_div_14_dayfreq_velchange',\n",
        "       'ccnum_0_dayfreq_div_30_dayfreq_velchange',\n",
        "       'merchant_0_dayfreq_div_30_dayfreq_velchange',\n",
        "       'card-merchant_daysSince', 'ccnum_totalamount1_amt2',\n",
        "       'merchant_totalamount7_amt2', 'merchant_totalamount14_amt2',\n",
        "       'merchant_totalamount30_amt2', 'ccnum_median0_amt2',\n",
        "       'ccnum_median1_amt2', 'ccnum_median30_amt2', 'merchant_median1_amt2',\n",
        "       'merchant_median7_amt2', 'merchant_median30_amt2',\n",
        "       'merchant_mean0_amt2', 'merchant_mean1_amt2', 'ccnum_max1_amt2',\n",
        "       'ccnum_max3_amt2', 'ccnum_max30_amt2', 'merchant_max30_amt2',\n",
        "       'ccnum_median_1_actual', 'ccnum_median_3_actual',\n",
        "       'ccnum_median_7_actual', 'ccnum_median_14_actual',\n",
        "       'ccnum_median_30_actual', 'merchant_median_3_actual',\n",
        "       'merchant_median_7_actual', 'merchant_median_14_actual',\n",
        "       'merchant_median_30_actual', 'ccnum_mean_30_actual',\n",
        "       'merchant_mean_3_actual', 'merchant_mean_30_actual',\n",
        "       'ccnum_max_14_actual', 'merchant_max_3_actual', 'merchant_max_7_actual',\n",
        "       'category_grocery_pos', 'category_shopping_net', 'day_Monday',\n",
        "       'day_Wednesday', 'time_of_day_Night', 'age_61-75', 'isfraud']\n",
        "\n",
        "df_filtered = df_num[selected_columns]"
      ]
    }
  ]
}